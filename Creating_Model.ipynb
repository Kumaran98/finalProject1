{
 "cells": [
  {
   "cell_type": "code",
   "execution_count": null,
   "id": "6b81e713",
   "metadata": {},
   "outputs": [],
   "source": [
    "import pandas as pd\n",
    "import numpy as np\n",
    "import matplotlib.pyplot as plt\n",
    "from sklearn.model_selection import train_test_split , GridSearchCV\n",
    "from sklearn.linear_model import LogisticRegression \n",
    "from sklearn.ensemble import RandomForestClassifier\n",
    "from sklearn.naive_bayes import BernoulliNB\n",
    "from sklearn.metrics import confusion_matrix , classification_report\n",
    "import seaborn as sns\n",
    "import matplotlib.pyplot as plt\n",
    "from imblearn.over_sampling import SMOTE\n",
    "import warnings\n",
    "warnings.filterwarnings('ignore')"
   ]
  },
  {
   "cell_type": "code",
   "execution_count": 3,
   "id": "b81f4898",
   "metadata": {},
   "outputs": [],
   "source": [
    "df = pd.read_csv('credit_card_churn.csv')"
   ]
  },
  {
   "cell_type": "code",
   "execution_count": null,
   "id": "4e173b66",
   "metadata": {},
   "outputs": [],
   "source": [
    "df.head()"
   ]
  },
  {
   "cell_type": "code",
   "execution_count": null,
   "id": "b62843c8",
   "metadata": {},
   "outputs": [],
   "source": [
    "df.shape"
   ]
  },
  {
   "cell_type": "code",
   "execution_count": null,
   "id": "ff3f5a35",
   "metadata": {},
   "outputs": [],
   "source": [
    "df.info()"
   ]
  },
  {
   "cell_type": "code",
   "execution_count": null,
   "id": "078e2b55",
   "metadata": {},
   "outputs": [],
   "source": [
    "df.isnull().sum()"
   ]
  },
  {
   "cell_type": "code",
   "execution_count": null,
   "id": "879e4afa",
   "metadata": {},
   "outputs": [],
   "source": [
    "for i in range (df.shape[1]):\n",
    "    print(f'{df.columns[i]} : {df.iloc[:,i].unique()}')"
   ]
  },
  {
   "cell_type": "code",
   "execution_count": 10,
   "id": "590c6fc4",
   "metadata": {},
   "outputs": [],
   "source": [
    "df_Edu_level = pd.get_dummies(data=df['Education_Level'] , drop_first=True)\n",
    "df_Marital_Status = pd.get_dummies(data=df['Marital_Status'] , drop_first=True)\n",
    "df_Income_Category = pd.get_dummies(data=df['Income_Category'] , drop_first=True)\n",
    "df_Card_Category = pd.get_dummies(data=df['Card_Category'] , drop_first=True)\n",
    "df['Attrition_Flag'].replace({'Attrited Customer':0 , 'Existing Customer':1} , inplace=True)\n",
    "df['Gender'].replace({'M':0 , 'F':1} , inplace=True)\n"
   ]
  },
  {
   "cell_type": "code",
   "execution_count": 12,
   "id": "5cb528a3",
   "metadata": {},
   "outputs": [],
   "source": [
    "df = pd.concat([df,df_Edu_level,df_Marital_Status,df_Income_Category,df_Card_Category] , axis=1)\n",
    "df.drop(['Education_Level' , 'Marital_Status' , 'Income_Category' ,'Card_Category' ,  'CLIENTNUM'] , axis=1 , inplace=True)"
   ]
  },
  {
   "cell_type": "code",
   "execution_count": null,
   "id": "6fbadf9c",
   "metadata": {},
   "outputs": [],
   "source": [
    "df.head()"
   ]
  },
  {
   "cell_type": "code",
   "execution_count": 14,
   "id": "c14c1180",
   "metadata": {},
   "outputs": [],
   "source": [
    "X = df.drop('Attrition_Flag' , axis=1)\n",
    "y = df.Attrition_Flag"
   ]
  },
  {
   "cell_type": "code",
   "execution_count": null,
   "id": "ad29d409",
   "metadata": {},
   "outputs": [],
   "source": [
    "y.value_counts()"
   ]
  },
  {
   "cell_type": "code",
   "execution_count": null,
   "id": "280e8e74",
   "metadata": {},
   "outputs": [],
   "source": [
    "smote = SMOTE(sampling_strategy='minority')\n",
    "x_sm , y_sm = smote.fit_sample(X,y)\n",
    "y_sm.value_counts()"
   ]
  },
  {
   "cell_type": "code",
   "execution_count": null,
   "id": "8509a8f3",
   "metadata": {},
   "outputs": [],
   "source": [
    "X_train, X_test, y_train, y_test = train_test_split(x_sm , y_sm , test_size=.25 , random_state=0)"
   ]
  },
  {
   "cell_type": "code",
   "execution_count": null,
   "id": "fc2073fd",
   "metadata": {},
   "outputs": [],
   "source": [
    "X_train.shape , X_test.shape"
   ]
  },
  {
   "cell_type": "code",
   "execution_count": null,
   "id": "516c0a33",
   "metadata": {},
   "outputs": [],
   "source": [
    "scale = StandardScaler()\n",
    "X_train_scaled = scale.fit_transform(X_train)\n",
    "X_test_scaled = scale.transform(X_test)"
   ]
  },
  {
   "cell_type": "code",
   "execution_count": null,
   "id": "b0c28fe6",
   "metadata": {},
   "outputs": [],
   "source": [
    "def best_algo(X , y):\n",
    "    algos = {\n",
    "        'model_logistic' : {\n",
    "            'model' : LogisticRegression() , \n",
    "            'para'  : {\n",
    "                'fit_intercept' : [True , False],\n",
    "                'C' : np.arange(1,3,0.1),\n",
    "                'penalty' : ['l1', 'l2', 'elasticnet', 'none'],\n",
    "                'solver' : ['newton-cg', 'lbfgs', 'liblinear', 'sag', 'saga']\n",
    "            }\n",
    "        },\n",
    "        \n",
    "        'model_naive' : {\n",
    "            'model' : BernoulliNB() , \n",
    "            'para' : {\n",
    "                'alpha' : np.arange(1,10,0.1),\n",
    "                'fit_prior' : [True , False],\n",
    "            }\n",
    "        },\n",
    "        \n",
    "        'model_RF' : {\n",
    "            'model' : RandomForestClassifier(),\n",
    "            'para' :{\n",
    "                'criterion' : [\"gini\", \"entropy\"],\n",
    "                #\n",
    "                #'n_estimators' : [10,20,30,50,100],\n",
    "                'bootstrap' : [True , False],\n",
    "                'oob_score' : [True , False],\n",
    "                'max_features' : [\"auto\", \"sqrt\", \"log2\"],\n",
    "                'warm_start' : [True , False],\n",
    "                #\n",
    "                #'verbose' : [10,20,30,40,50],\n",
    "            }\n",
    "        }\n",
    "    }\n",
    "    scores = []\n",
    "    for algo_name , config in algos.items():\n",
    "        gcv = GridSearchCV(config['model'] , config['para'] , cv=10 , return_train_score=False)\n",
    "        gcv.fit(X , y)\n",
    "        scores.append({\n",
    "            'model' : algo_name,\n",
    "            'best_score' : gcv.best_score_,\n",
    "            'best_para' : gcv.best_params_\n",
    "        }\n",
    "        )\n",
    "    pd.set_option('display.max_colwidth' , None)    \n",
    "    return pd.DataFrame(scores , columns=['model' , 'best_score' , 'best_para']) \n"
   ]
  },
  {
   "cell_type": "code",
   "execution_count": null,
   "id": "38b7c939",
   "metadata": {},
   "outputs": [],
   "source": [
    "best_algo(X_train_scaled , y_train )"
   ]
  },
  {
   "cell_type": "code",
   "execution_count": null,
   "id": "d735cf9c",
   "metadata": {},
   "outputs": [],
   "source": [
    "model_rf = RandomForestClassifier(bootstrap= True, criterion= 'gini', max_features= 'auto', oob_score= False, warm_start= True)"
   ]
  },
  {
   "cell_type": "code",
   "execution_count": null,
   "id": "533fe4cd",
   "metadata": {},
   "outputs": [],
   "source": [
    "model_rf.fit(X_train_scaled , y_train)"
   ]
  },
  {
   "cell_type": "code",
   "execution_count": null,
   "id": "96eebee7",
   "metadata": {},
   "outputs": [],
   "source": [
    "model_rf.score(X_test_scaled , y_test)"
   ]
  },
  {
   "cell_type": "code",
   "execution_count": null,
   "id": "73d0f639",
   "metadata": {},
   "outputs": [],
   "source": [
    "pred_rf = model_rf.predict(X_test_scaled)\n",
    "cm_rf = confusion_matrix(y_test,pred_rf)\n",
    "clf_rf = classification_report(y_test,pred_rf)\n",
    "plt.figure(figsize=(10,8))\n",
    "print(clf_rf)\n",
    "sns.heatmap(cm_rf , annot=True , fmt='d')"
   ]
  },
  {
   "cell_type": "markdown",
   "id": "6b74589b",
   "metadata": {},
   "source": [
    "# NAIVE BAYES"
   ]
  },
  {
   "cell_type": "code",
   "execution_count": null,
   "id": "9c97caa8",
   "metadata": {},
   "outputs": [],
   "source": [
    "model_naive = BernoulliNB(alpha= 9.800000000000008, fit_prior= True)"
   ]
  },
  {
   "cell_type": "code",
   "execution_count": null,
   "id": "df11888c",
   "metadata": {},
   "outputs": [],
   "source": [
    "model_naive.fit(X_train_scaled , y_train)"
   ]
  },
  {
   "cell_type": "code",
   "execution_count": null,
   "id": "61f15ae9",
   "metadata": {},
   "outputs": [],
   "source": [
    "model_naive.score(X_test_scaled , y_test)"
   ]
  },
  {
   "cell_type": "code",
   "execution_count": null,
   "id": "e7403344",
   "metadata": {},
   "outputs": [],
   "source": [
    "pred_naive = model_naive.predict(X_test_scaled)\n",
    "cm_naive = confusion_matrix(y_test,pred_naive)\n",
    "clf_naive = classification_report(y_test,pred_naive)\n",
    "plt.figure(figsize=(10,8))\n",
    "print(clf_naive)\n",
    "sns.heatmap(cm_naive , annot=True , fmt='d')"
   ]
  },
  {
   "cell_type": "markdown",
   "id": "55f9372d",
   "metadata": {},
   "source": [
    "# LOGISTIC REGRESSION"
   ]
  },
  {
   "cell_type": "code",
   "execution_count": null,
   "id": "ae313631",
   "metadata": {},
   "outputs": [],
   "source": [
    "model_logistic = LogisticRegression(C= 1.0, fit_intercept= True, penalty= 'l1', solver= 'liblinear')"
   ]
  },
  {
   "cell_type": "code",
   "execution_count": null,
   "id": "ac60ece2",
   "metadata": {},
   "outputs": [],
   "source": [
    "model_logistic.fit(X_train_scaled , y_train)"
   ]
  },
  {
   "cell_type": "code",
   "execution_count": null,
   "id": "52d62d12",
   "metadata": {},
   "outputs": [],
   "source": [
    "model_logistic.score(X_test_scaled , y_test)"
   ]
  },
  {
   "cell_type": "code",
   "execution_count": null,
   "id": "33f647f3",
   "metadata": {},
   "outputs": [],
   "source": [
    "pred_log = model_logistic.predict(X_test_scaled)\n",
    "cm_log = confusion_matrix(y_test,pred_log)\n",
    "clf_log = classification_report(y_test,pred_log)\n",
    "plt.figure(figsize=(10,8))\n",
    "print(clf_log)\n",
    "sns.heatmap(cm_log, annot=True , fmt='d')"
   ]
  },
  {
   "cell_type": "markdown",
   "id": "ee98b01a",
   "metadata": {},
   "source": [
    "# NEURAL NETWORK"
   ]
  },
  {
   "cell_type": "code",
   "execution_count": null,
   "id": "664947f2",
   "metadata": {},
   "outputs": [],
   "source": [
    "model_NN = tf.keras.Sequential([\n",
    "    tf.keras.layers.Dense(25 , input_shape=(25,),activation='relu'),\n",
    "    tf.keras.layers.Dense(20 , activation='relu'),\n",
    "    tf.keras.layers.Dense(15 , activation='relu'),\n",
    "    tf.keras.layers.Dense(1 , activation='sigmoid'),\n",
    "])\n",
    "\n",
    "model_NN.compile(metrics=['accuracy'] , loss='binary_crossentropy' , optimizer='adam')\n",
    "model_NN.fit(X_train_scaled,y_train,epochs=200,verbose=1)"
   ]
  },
  {
   "cell_type": "code",
   "execution_count": null,
   "id": "474dfbf0",
   "metadata": {},
   "outputs": [],
   "source": [
    "pred_NN = model_NN.predict(X_test_scaled )"
   ]
  },
  {
   "cell_type": "code",
   "execution_count": null,
   "id": "aa48a379",
   "metadata": {},
   "outputs": [],
   "source": [
    "model_NN.evaluate(X_test_scaled,y_test)"
   ]
  },
  {
   "cell_type": "code",
   "execution_count": null,
   "id": "7b3bd2d3",
   "metadata": {},
   "outputs": [],
   "source": [
    "predictions=[]\n",
    "for i in pred_NN:\n",
    "    if i>=0.5:\n",
    "        i=1\n",
    "    else:\n",
    "        i=0\n",
    "    predictions.append(i) "
   ]
  },
  {
   "cell_type": "code",
   "execution_count": null,
   "id": "04eea5b8",
   "metadata": {},
   "outputs": [],
   "source": [
    "cm_NN = confusion_matrix(y_test,predictions)"
   ]
  },
  {
   "cell_type": "code",
   "execution_count": null,
   "id": "fc5173b5",
   "metadata": {},
   "outputs": [],
   "source": [
    "import seaborn as sns\n",
    "plt.figure(figsize=(8,8))\n",
    "sns.heatmap(cm_NN , annot=True , fmt='d')"
   ]
  },
  {
   "cell_type": "code",
   "execution_count": null,
   "id": "7dfb1bb8",
   "metadata": {},
   "outputs": [],
   "source": [
    "print(classification_report(y_test,predictions))"
   ]
  },
  {
   "cell_type": "markdown",
   "id": "007ee0b7",
   "metadata": {},
   "source": []
  }
 ],
 "metadata": {
  "kernelspec": {
   "display_name": "Python 3 (ipykernel)",
   "language": "python",
   "name": "python3"
  },
  "language_info": {
   "codemirror_mode": {
    "name": "ipython",
    "version": 3
   },
   "file_extension": ".py",
   "mimetype": "text/x-python",
   "name": "python",
   "nbconvert_exporter": "python",
   "pygments_lexer": "ipython3",
   "version": "3.9.12"
  }
 },
 "nbformat": 4,
 "nbformat_minor": 5
}
